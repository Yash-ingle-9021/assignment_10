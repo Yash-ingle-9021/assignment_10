{
 "cells": [
  {
   "cell_type": "code",
   "execution_count": 1,
   "metadata": {},
   "outputs": [
    {
     "name": "stdout",
     "output_type": "stream",
     "text": [
      "* ASSIGNMENT_10 *\n"
     ]
    }
   ],
   "source": [
    "print(\"* ASSIGNMENT_10 *\")"
   ]
  },
  {
   "cell_type": "code",
   "execution_count": 4,
   "metadata": {},
   "outputs": [
    {
     "name": "stdout",
     "output_type": "stream",
     "text": [
      "Q_1_ANS :- open() this function is used to file opening. Two different mode to opening file  1. direct open() function and  2. with open() \n",
      "EX :- 1. direct open() function mode\n",
      "EX :- 2. with open() function mode\n"
     ]
    }
   ],
   "source": [
    "print('Q_1_ANS :- open() this function is used to file opening. Two different mode to opening file  1. direct open() function and  2. with open() ')\n",
    "\n",
    "print(\"EX :- 1. direct open() function mode\")\n",
    "\n",
    "f = open(\"text.txt\",\"w\")\n",
    "f.write(\"Welcome to Data Science Master course\")\n",
    "f.close()\n",
    "\n",
    "print(\"EX :- 2. with open() function mode\")\n",
    "\n",
    "with open(\"text1.txt\",\"w\") as f :\n",
    "    f.write(\"Welcome to pwskills program \")\n",
    "    f.close()"
   ]
  },
  {
   "cell_type": "code",
   "execution_count": 5,
   "metadata": {},
   "outputs": [
    {
     "name": "stdout",
     "output_type": "stream",
     "text": [
      "Q_2_ANS :- The close() function shall deallocate the file descriptor indicated by fildes. To deallocate means to make the file descriptor available for return by subsequent calls to open() or other functions that allocate file descriptors. Because files are limited resources managed by the operating system, making sure files are closed after use will protect against hard-to-debug issues like running out of file handles or experiencing corrupted data.\n"
     ]
    }
   ],
   "source": [
    "print('Q_2_ANS :- The close() function shall deallocate the file descriptor indicated by fildes. To deallocate means to make the file descriptor available for return by subsequent calls to open() or other functions that allocate file descriptors. Because files are limited resources managed by the operating system, making sure files are closed after use will protect against hard-to-debug issues like running out of file handles or experiencing corrupted data.')"
   ]
  },
  {
   "cell_type": "code",
   "execution_count": 6,
   "metadata": {},
   "outputs": [
    {
     "name": "stdout",
     "output_type": "stream",
     "text": [
      "Q_3_ANS :- \n"
     ]
    },
    {
     "data": {
      "text/plain": [
       "'I want to become a Data Scientist'"
      ]
     },
     "execution_count": 6,
     "metadata": {},
     "output_type": "execute_result"
    }
   ],
   "source": [
    "print('Q_3_ANS :- ')\n",
    "\n",
    "with open(\"text.txt\",\"w\") as f :\n",
    "    f.write(\"I want to become a Data Scientist\")\n",
    "    f.close()\n",
    "\n",
    "f = open(\"text.txt\",\"r\")\n",
    "f.read()"
   ]
  },
  {
   "cell_type": "code",
   "execution_count": 40,
   "metadata": {},
   "outputs": [
    {
     "name": "stdout",
     "output_type": "stream",
     "text": [
      "Q_4_ANS :- \n",
      "I want to become a Data Scientist.\n",
      "\n"
     ]
    }
   ],
   "source": [
    "print('Q_4_ANS :- ')\n",
    "\n",
    "with open(\"text2.txt\",\"w\") as f :\n",
    "    f.write(\"I want to become a Data Scientist.\\nI am full stack developar.\\nI have github account.\\nI want to stand my business \")\n",
    "    f.close()\n",
    "\n",
    "\n",
    "f = open(\"text2.txt\",\"r\")\n",
    "f.read()\n",
    "\n",
    "\n",
    "with open(\"text2.txt\",\"r\") as f :   \n",
    "    print(f.readline())\n",
    "   \n",
    "\n",
    "with open(\"text2.txt\",\"r\") as f :\n",
    "   print( f.readlines())\n",
    "\n",
    "# Note :- One by one excute code  1st.read() 2nd.readline() 3rd.readlines functions. "
   ]
  },
  {
   "cell_type": "code",
   "execution_count": 43,
   "metadata": {},
   "outputs": [
    {
     "name": "stdout",
     "output_type": "stream",
     "text": [
      "Q_5_ANS :- The with statement works with the open() function to open a file. Unlike open() where you have to close the file with the close() method, the with statement closes the file for you without you telling it to.\n",
      "The advantage of using a with statement is that it is guaranteed to close the file no matter how the nested block exits. If an exception occurs before the end of the block, it will close the file before the exception is caught by an outer exception handler. You might be wondering which way you should use to work with files between the combo of with and open() and just the open() function. I would advise you to use the combination of with and open() because the with statement closes the file for you and you get to write less code.\n"
     ]
    }
   ],
   "source": [
    "print('Q_5_ANS :- The with statement works with the open() function to open a file. Unlike open() where you have to close the file with the close() method, the with statement closes the file for you without you telling it to.\\nThe advantage of using a with statement is that it is guaranteed to close the file no matter how the nested block exits. If an exception occurs before the end of the block, it will close the file before the exception is caught by an outer exception handler. You might be wondering which way you should use to work with files between the combo of with and open() and just the open() function. I would advise you to use the combination of with and open() because the with statement closes the file for you and you get to write less code.')"
   ]
  },
  {
   "cell_type": "code",
   "execution_count": 45,
   "metadata": {},
   "outputs": [
    {
     "name": "stdout",
     "output_type": "stream",
     "text": [
      "Q_6_ANS :- 1. Write() :- The string that is passed to the write() function is written into the opened file. The string may include numbers, special characters, or symbols. While writing data to a file, we must know that the write function does not add a newline character(\n",
      ") to the end of the string. The write() function returns None.\n",
      "2. Writelines() :- The list of strings that is passed to the writelines() function is written into the opened file. Similar to the write() function, the writelines() function does not add a newline character(\n",
      ") to the end of the string.  \n",
      "EX :- write() function\n",
      "EX :- writelines() function\n"
     ]
    }
   ],
   "source": [
    "print('Q_6_ANS :- 1. Write() :- The string that is passed to the write() function is written into the opened file. The string may include numbers, special characters, or symbols. While writing data to a file, we must know that the write function does not add a newline character(\\n) to the end of the string. The write() function returns None.\\n2. Writelines() :- The list of strings that is passed to the writelines() function is written into the opened file. Similar to the write() function, the writelines() function does not add a newline character(\\n) to the end of the string.  ')\n",
    "\n",
    "print(\"EX :- write() function\")\n",
    "\n",
    "with open(\"text3.txt\",\"w\") as f :\n",
    "    for i in range(5):\n",
    "     name = input(\"Enter your name \")\n",
    "     f.write(name)\n",
    "     f.write(\"\\n\")\n",
    "    \n",
    "print(\"EX :- writelines() function\")\n",
    "\n",
    "with open(\"text4.txt\",\"w\") as f :\n",
    "    l = []\n",
    "    for i in range(5):\n",
    "     name = input(\"Enter your name \")\n",
    "     l.append(name + \"\\n\")\n",
    "     f.writelines(l)\n",
    "\n",
    "# Note :- excute One by one 1st. Write()  2nd. Writelines() function"
   ]
  },
  {
   "cell_type": "code",
   "execution_count": null,
   "metadata": {},
   "outputs": [],
   "source": []
  }
 ],
 "metadata": {
  "kernelspec": {
   "display_name": "Python 3",
   "language": "python",
   "name": "python3"
  },
  "language_info": {
   "codemirror_mode": {
    "name": "ipython",
    "version": 3
   },
   "file_extension": ".py",
   "mimetype": "text/x-python",
   "name": "python",
   "nbconvert_exporter": "python",
   "pygments_lexer": "ipython3",
   "version": "3.10.0"
  },
  "orig_nbformat": 4
 },
 "nbformat": 4,
 "nbformat_minor": 2
}
